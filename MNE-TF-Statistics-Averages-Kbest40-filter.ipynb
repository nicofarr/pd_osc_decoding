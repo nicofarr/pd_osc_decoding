{
 "cells": [
  {
   "cell_type": "markdown",
   "metadata": {},
   "source": [
    "Update February 21st 2019\n",
    "--\n",
    "We performed all classification experiments again the evoked response filtering in low frequency (low pass 30 Hz), and  we selected components using a Kbest with 40 electrodes, before training the classifiers. "
   ]
  },
  {
   "cell_type": "markdown",
   "metadata": {},
   "source": [
    "We train classifiers on one condition, and test it on the same or other condition (eg. Train Regular, Test Regular), so this is why we get four graphs. \n",
    "\n",
    "One interesting part would be to observe a group difference in the respect to which classifiers in one group are able to generalize across conditions, or not. \n",
    "\n",
    "For instance, one interesting hypothesis to test would be : \n",
    "\n",
    "- Classifiers trained on controls do generalize from the pattern trained in Regular when tested in Irregular, or the opposite. \n",
    "- Classifiers trained on Patients data are less/not able to generalize across conditions.\n"
   ]
  },
  {
   "cell_type": "code",
   "execution_count": 1,
   "metadata": {},
   "outputs": [],
   "source": [
    "import numpy as np\n",
    "from matplotlib import pyplot as plt \n",
    "%matplotlib inline \n",
    "import os \n",
    "from statsmodels.stats import multitest\n",
    "\n",
    "statspath = '/home/nfarrugi/datasets/mpi_pd_cueing/results_fkbest40_filter/'\n",
    "statspath2 = '/home/nfarrugi/datasets/mpi_pd_cueing/results_fkbest40/'"
   ]
  },
  {
   "cell_type": "markdown",
   "metadata": {},
   "source": [
    "Step 0 - preparing data "
   ]
  },
  {
   "cell_type": "markdown",
   "metadata": {},
   "source": [
    "fields for the saved stats files are : \n",
    "- scores\n",
    "- proba\n",
    "- pval\n",
    "- U\n",
    "\n",
    "For each of them, layout is 4 (Regreg,RegIrreg,IrregReg,IrregIrreg) x CV x TestTime x TrainTime"
   ]
  },
  {
   "cell_type": "markdown",
   "metadata": {},
   "source": [
    "Group files per subject type (patients or control) "
   ]
  },
  {
   "cell_type": "code",
   "execution_count": 2,
   "metadata": {},
   "outputs": [],
   "source": [
    "allsubj = os.listdir(statspath)\n",
    "\n",
    "controls_id = []\n",
    "patients_id = []\n",
    "\n",
    "for cursubj in allsubj:\n",
    "    if (cursubj[9]=='k'):\n",
    "        controls_id.append(cursubj)\n",
    "    else:\n",
    "        if cursubj[10]=='1':\n",
    "            patients_id.append(cursubj)\n",
    "            "
   ]
  },
  {
   "cell_type": "code",
   "execution_count": 5,
   "metadata": {},
   "outputs": [
    {
     "data": {
      "text/plain": [
       "20"
      ]
     },
     "execution_count": 5,
     "metadata": {},
     "output_type": "execute_result"
    }
   ],
   "source": [
    "len(patients_id)"
   ]
  },
  {
   "cell_type": "code",
   "execution_count": 6,
   "metadata": {},
   "outputs": [
    {
     "data": {
      "text/plain": [
       "20"
      ]
     },
     "execution_count": 6,
     "metadata": {},
     "output_type": "execute_result"
    }
   ],
   "source": [
    "len(controls_id)"
   ]
  },
  {
   "cell_type": "code",
   "execution_count": 7,
   "metadata": {},
   "outputs": [],
   "source": [
    "def diagonal_group(subjlist,statspath,thresh_unc = 0.01,timevec=None,showall=False,threshold_zeros=40,doplots=True,keepall=True,onlyregreg=False):\n",
    "\n",
    "\n",
    "    if (showall):\n",
    "        print(\"Showing all subjects\")\n",
    "    else:\n",
    "        print(\"Showing subjects with less than %d FDR significant points\" % threshold_zeros)\n",
    "    \n",
    "    diag_sig_fdr_all = []\n",
    "    diag_sig_unc_all = []\n",
    "    diag_ROC_all = []\n",
    "    for subj in subjlist:\n",
    "        cursubj = os.path.join(statspath,subj)\n",
    "        curroc = np.load(cursubj)['scores'].mean(axis=1)\n",
    "        curpvals = np.load(cursubj)['pval'].mean(axis=1) # Calculating mean p-value accross CV splits \n",
    "        diag_pvals = np.stack([np.diag(curmat) for curmat in curpvals]) # extract diagonal classification for each condition pair\n",
    "\n",
    "        diag_ROC = np.stack([np.diag(curmat) for curmat in curroc]) # extract diagonal classification\n",
    "        \n",
    "        diag_sig_fdr = []\n",
    "        diag_sig_unc = []\n",
    "        \n",
    "        if onlyregreg:\n",
    "            H,p,_,_=multitest.multipletests(diag_pvals[2],method='fdr_bh')\n",
    "            H_unc = diag_pvals[2] < thresh_unc\n",
    "            diag_sig_unc.append(H_unc)\n",
    "            diag_sig_fdr.append(H)        \n",
    "        else:\n",
    "            for curdiag in diag_pvals:\n",
    "                H,p,_,_=multitest.multipletests(curdiag,method='fdr_bh')\n",
    "                H_unc = curdiag < thresh_unc\n",
    "                diag_sig_unc.append(H_unc)\n",
    "                diag_sig_fdr.append(H)\n",
    "\n",
    "        \n",
    "        nonzeros = np.sum(np.stack(diag_sig_fdr))\n",
    "        if showall:\n",
    "            print(\"Subj %s number of non-zeros FDR : %d \" %(subj,nonzeros))\n",
    "                        \n",
    "        elif nonzeros < threshold_zeros:\n",
    "            print(\"Subj %s has zero or few significant FDR : %d \" %(subj,nonzeros))\n",
    "            \n",
    "            if (nonzeros >= 0 ) and doplots:\n",
    "                #plt.subplot(1,2,1)\n",
    "                plt.plot(timevec,diag_sig_fdr[0])\n",
    "                #plt.subplot(1,2,2)\n",
    "                plt.plot(timevec,diag_ROC[0])\n",
    "                plt.show()\n",
    "            \n",
    "        \n",
    "        #print(\"Subj %s number of non-zeros Uncorrected : %d \" %(subj,np.sum(np.stack(diag_sig_unc))))\n",
    "        \n",
    "        if (nonzeros > threshold_zeros) or keepall:\n",
    "            diag_sig_fdr_all.append(np.stack(diag_sig_fdr))\n",
    "            diag_sig_unc_all.append(np.stack(diag_sig_unc))\n",
    "            diag_ROC_all.append(diag_ROC)\n",
    "\n",
    "    \n",
    "    return np.sum(np.stack(diag_sig_fdr_all),axis=0),np.sum(np.stack(diag_sig_unc_all),axis=0),np.stack(diag_ROC_all)"
   ]
  },
  {
   "cell_type": "code",
   "execution_count": 8,
   "metadata": {},
   "outputs": [],
   "source": [
    "def plot_ROC_allcond(allscores,timepoints,figtitle='Default Title'):\n",
    "\n",
    "    fig, (ax) = plt.subplots(ncols=2,nrows=2,figsize=(10,10))\n",
    "\n",
    "    titles = ['Train Regular Test Regular',\n",
    "              'Train Regular Test Irregular',\n",
    "              'Train Irregular Test Regular',\n",
    "              'Train Irregular Test Irregular']\n",
    "\n",
    "    for i in range(4):\n",
    "        curax = ax.ravel()[i]\n",
    "\n",
    "        im = curax.matshow(allscores.mean(axis=1)[i], cmap='RdBu_r', vmin=0.2,vmax=0.8,origin='lower',\n",
    "                            extent=timepoints)\n",
    "        curax.axhline(0., color='k')\n",
    "        curax.axvline(0., color='k')\n",
    "        curax.xaxis.set_ticks_position('bottom')\n",
    "        curax.set_xlabel('Testing Time (s)')\n",
    "        curax.set_ylabel('Training Time (s)')\n",
    "        curax.set_title(titles[i])\n",
    "        plt.colorbar(im, ax=curax)\n",
    "    fig.suptitle(figtitle)\n",
    "    return fig"
   ]
  },
  {
   "cell_type": "code",
   "execution_count": 9,
   "metadata": {},
   "outputs": [],
   "source": [
    "def plot_ROC_group(subjlist,statspath):\n",
    "\n",
    "    diag_sig_fdr_all = []\n",
    "    diag_sig_unc_all = []\n",
    "    diag_ROC_all = []\n",
    "    \n",
    "    timepoints = np.array([-0.05      ,  0.52000002, -0.05      ,  0.52000002])\n",
    "    for subj in subjlist:\n",
    "        cursubj = os.path.join(statspath,subj)\n",
    "        curroc = np.load(cursubj)['scores']\n",
    "        curpvals = np.load(cursubj)['pval']\n",
    "        #print(subj)\n",
    "        \n",
    "        plot_ROC_allcond(curroc,timepoints,subj)\n",
    "        \n",
    "        \n",
    "        "
   ]
  },
  {
   "cell_type": "markdown",
   "metadata": {},
   "source": [
    "Part1\n",
    "--"
   ]
  },
  {
   "cell_type": "markdown",
   "metadata": {},
   "source": [
    "Individual plots of ROC curves for temporal generalization using evoked resp + PCA80perc to train classifiers (averaged over four consecutive trials)\n",
    "--"
   ]
  },
  {
   "cell_type": "code",
   "execution_count": 10,
   "metadata": {},
   "outputs": [],
   "source": [
    "#plot_ROC_group(controls_id,statspath)"
   ]
  },
  {
   "cell_type": "code",
   "execution_count": 11,
   "metadata": {},
   "outputs": [],
   "source": [
    "#plot_ROC_group(patients_id,statspath)"
   ]
  },
  {
   "cell_type": "markdown",
   "metadata": {},
   "source": [
    "Individual ROC curves for temporal generalization on evoked response to train classifiers without PCA ( just showing again previous results here to compare)\n",
    "--"
   ]
  },
  {
   "cell_type": "code",
   "execution_count": 12,
   "metadata": {},
   "outputs": [],
   "source": [
    "#plot_ROC_group(avcontrols_id,avstatspath)"
   ]
  },
  {
   "cell_type": "code",
   "execution_count": 13,
   "metadata": {},
   "outputs": [],
   "source": [
    "#plot_ROC_group(avpatients_id,avstatspath)"
   ]
  },
  {
   "cell_type": "code",
   "execution_count": 14,
   "metadata": {},
   "outputs": [],
   "source": [
    "def four_plots(timevec,subtitles,diag_sig,mytitle):\n",
    "    plt.figure(figsize=(10,10))\n",
    "\n",
    "    for i in range(1,5):\n",
    "        plt.subplot(2,2,i)\n",
    "        plt.plot(timevec,diag_sig[i-1])\n",
    "        plt.title(subtitles[i-1])\n",
    "    plt.suptitle('Diagonal decoding - %s' % mytitle)\n",
    "    plt.show()"
   ]
  },
  {
   "cell_type": "code",
   "execution_count": 15,
   "metadata": {},
   "outputs": [],
   "source": [
    "def four_errorplots(timevec,subtitles,diag_roc,mytitle):\n",
    "    plt.figure(figsize=(10,10))\n",
    "\n",
    "    for i in range(1,5):\n",
    "        plt.subplot(2,2,i)\n",
    "        plt.errorbar(timevec,diag_roc[:,i-1,:].mean(axis=0),yerr=diag_roc[:,i-1,:].std(axis=0),errorevery=5)\n",
    "        plt.title(subtitles[i-1])\n",
    "        plt.grid(True)\n",
    "    plt.suptitle('Diagonal decoding - %s' % mytitle)\n",
    "    plt.show()"
   ]
  },
  {
   "cell_type": "markdown",
   "metadata": {},
   "source": [
    "Part2\n",
    "--"
   ]
  },
  {
   "cell_type": "markdown",
   "metadata": {},
   "source": [
    "Summarizing statistics using the beta results\n",
    "--"
   ]
  },
  {
   "cell_type": "markdown",
   "metadata": {},
   "source": [
    "Step 1 - Analysis of \"Diagonal\" Classification\n",
    "\n",
    "We average the diagonal of the p values of the within-subjects Mann Whittney U-Test, and average them across CV folds. We correct the resulting p values using FDR Benjamin Hochberg correction, and sum the resulting vectors across all subjects. \n",
    "\n",
    "We also compute an uncorrected version with a threshold of $p < 0.01$"
   ]
  },
  {
   "cell_type": "code",
   "execution_count": 16,
   "metadata": {},
   "outputs": [
    {
     "name": "stdout",
     "output_type": "stream",
     "text": [
      "Showing subjects with less than 40 FDR significant points\n",
      "Subj 180802_02k1_formal_conditionwise.npz has zero or few significant FDR : 0 \n",
      "Showing subjects with less than 40 FDR significant points\n",
      "Subj 180802_12c1_formal_conditionwise.npz has zero or few significant FDR : 0 \n",
      "Subj 180802_15c1_formal_conditionwise.npz has zero or few significant FDR : 0 \n",
      "Subj 180802_17c1_formal_conditionwise.npz has zero or few significant FDR : 3 \n",
      "Subj 180802_11c1_formal_conditionwise.npz has zero or few significant FDR : 0 \n",
      "Subj 180802_14c1_formal_conditionwise.npz has zero or few significant FDR : 0 \n",
      "Subj 180802_04c1_formal_conditionwise.npz has zero or few significant FDR : 38 \n",
      "Subj 180802_04m1_formal_conditionwise.npz has zero or few significant FDR : 0 \n"
     ]
    }
   ],
   "source": [
    "diag_sig_fdr_controls,diag_sig_unc_controls,diag_ROC_controls = diagonal_group(controls_id,statspath,0.05,doplots=False)\n",
    "diag_sig_fdr_patients,diag_sig_unc_patients,diag_ROC_patients = diagonal_group(patients_id,statspath,0.05,doplots=False)"
   ]
  },
  {
   "cell_type": "markdown",
   "metadata": {},
   "source": [
    "1 control and 7 patients don't have sig FDR. This is way better than K-best 40 alone! \n",
    "\n",
    "For K-best 40 only, we had 4 controls and 10 patients. "
   ]
  },
  {
   "cell_type": "code",
   "execution_count": 17,
   "metadata": {},
   "outputs": [
    {
     "name": "stdout",
     "output_type": "stream",
     "text": [
      "Showing subjects with less than 40 FDR significant points\n",
      "Subj 180802_07k1_formal_conditionwise.npz has zero or few significant FDR : 19 \n",
      "Subj 180802_02k1_formal_conditionwise.npz has zero or few significant FDR : 0 \n",
      "Subj 180802_11k1_formal_conditionwise.npz has zero or few significant FDR : 25 \n",
      "Subj 180802_18k1_formal_conditionwise.npz has zero or few significant FDR : 21 \n",
      "Showing subjects with less than 40 FDR significant points\n",
      "Subj 180802_12c1_formal_conditionwise.npz has zero or few significant FDR : 0 \n",
      "Subj 180802_15c1_formal_conditionwise.npz has zero or few significant FDR : 0 \n",
      "Subj 180802_17c1_formal_conditionwise.npz has zero or few significant FDR : 3 \n",
      "Subj 180802_11c1_formal_conditionwise.npz has zero or few significant FDR : 0 \n",
      "Subj 180802_14c1_formal_conditionwise.npz has zero or few significant FDR : 0 \n",
      "Subj 180802_04c1_formal_conditionwise.npz has zero or few significant FDR : 2 \n",
      "Subj 180802_01m1_formal_conditionwise.npz has zero or few significant FDR : 20 \n",
      "Subj 180802_09c1_formal_conditionwise.npz has zero or few significant FDR : 1 \n",
      "Subj 180802_02c1_formal_conditionwise.npz has zero or few significant FDR : 30 \n",
      "Subj 180802_08c1_formal_conditionwise.npz has zero or few significant FDR : 9 \n",
      "Subj 180802_04m1_formal_conditionwise.npz has zero or few significant FDR : 0 \n"
     ]
    }
   ],
   "source": [
    "diag_sig_fdr_controls,diag_sig_unc_controls,diag_ROC_controls = diagonal_group(controls_id,statspath2,0.05,doplots=False)\n",
    "diag_sig_fdr_patients,diag_sig_unc_patients,diag_ROC_patients = diagonal_group(patients_id,statspath2,0.05,doplots=False)"
   ]
  },
  {
   "cell_type": "markdown",
   "metadata": {},
   "source": [
    "Uncomment the following cell to output number of FDR corrected Mann Whitney whithin subjects statistics for all subjects (to give an idea how many signficant values we get for the ones who work well)"
   ]
  },
  {
   "cell_type": "markdown",
   "metadata": {},
   "source": [
    "With Kbest AND PCA  "
   ]
  },
  {
   "cell_type": "code",
   "execution_count": 18,
   "metadata": {},
   "outputs": [
    {
     "name": "stdout",
     "output_type": "stream",
     "text": [
      "Showing all subjects\n",
      "Subj 180802_07k1_formal_conditionwise.npz number of non-zeros FDR : 89 \n",
      "Subj 180802_04k1_formal_conditionwise.npz number of non-zeros FDR : 481 \n",
      "Subj 180802_13k1_formal_conditionwise.npz number of non-zeros FDR : 402 \n",
      "Subj 180802_05k1_formal_conditionwise.npz number of non-zeros FDR : 241 \n",
      "Subj 180802_06k1_formal_conditionwise.npz number of non-zeros FDR : 87 \n",
      "Subj 180802_20k1_formal_conditionwise.npz number of non-zeros FDR : 376 \n",
      "Subj 180802_09k1_formal_conditionwise.npz number of non-zeros FDR : 192 \n",
      "Subj 180802_08k1_formal_conditionwise.npz number of non-zeros FDR : 453 \n",
      "Subj 180802_02k1_formal_conditionwise.npz number of non-zeros FDR : 0 \n",
      "Subj 180802_12k1_formal_conditionwise.npz number of non-zeros FDR : 317 \n",
      "Subj 180802_11k1_formal_conditionwise.npz number of non-zeros FDR : 110 \n",
      "Subj 180802_01k1_formal_conditionwise.npz number of non-zeros FDR : 555 \n",
      "Subj 180802_14k1_formal_conditionwise.npz number of non-zeros FDR : 223 \n",
      "Subj 180802_15k1_formal_conditionwise.npz number of non-zeros FDR : 92 \n",
      "Subj 180802_03k1_formal_conditionwise.npz number of non-zeros FDR : 178 \n",
      "Subj 180802_10k1_formal_conditionwise.npz number of non-zeros FDR : 233 \n",
      "Subj 180802_17k1_formal_conditionwise.npz number of non-zeros FDR : 103 \n",
      "Subj 180802_16k1_formal_conditionwise.npz number of non-zeros FDR : 171 \n",
      "Subj 180802_18k1_formal_conditionwise.npz number of non-zeros FDR : 126 \n",
      "Subj 180802_19k1_formal_conditionwise.npz number of non-zeros FDR : 318 \n",
      "Showing all subjects\n",
      "Subj 180802_12c1_formal_conditionwise.npz number of non-zeros FDR : 0 \n",
      "Subj 180802_15c1_formal_conditionwise.npz number of non-zeros FDR : 0 \n",
      "Subj 180802_07c1_formal_conditionwise.npz number of non-zeros FDR : 636 \n",
      "Subj 180802_17c1_formal_conditionwise.npz number of non-zeros FDR : 3 \n",
      "Subj 180802_11c1_formal_conditionwise.npz number of non-zeros FDR : 0 \n",
      "Subj 180802_03m1_formal_conditionwise.npz number of non-zeros FDR : 666 \n",
      "Subj 180802_05c1_formal_conditionwise.npz number of non-zeros FDR : 339 \n",
      "Subj 180802_14c1_formal_conditionwise.npz number of non-zeros FDR : 0 \n",
      "Subj 180802_04c1_formal_conditionwise.npz number of non-zeros FDR : 38 \n",
      "Subj 180802_01m1_formal_conditionwise.npz number of non-zeros FDR : 77 \n",
      "Subj 180802_02m1_formal_conditionwise.npz number of non-zeros FDR : 162 \n",
      "Subj 180802_06c1_formal_conditionwise.npz number of non-zeros FDR : 335 \n",
      "Subj 180802_09c1_formal_conditionwise.npz number of non-zeros FDR : 141 \n",
      "Subj 180802_10c1_formal_conditionwise.npz number of non-zeros FDR : 437 \n",
      "Subj 180802_03c1_formal_conditionwise.npz number of non-zeros FDR : 323 \n",
      "Subj 180802_02c1_formal_conditionwise.npz number of non-zeros FDR : 65 \n",
      "Subj 180802_13c1_formal_conditionwise.npz number of non-zeros FDR : 151 \n",
      "Subj 180802_08c1_formal_conditionwise.npz number of non-zeros FDR : 50 \n",
      "Subj 180802_01c1_formal_conditionwise.npz number of non-zeros FDR : 260 \n",
      "Subj 180802_04m1_formal_conditionwise.npz number of non-zeros FDR : 0 \n"
     ]
    }
   ],
   "source": [
    "diag_sig_fdr_controls,diag_sig_unc_controls,_ = diagonal_group(controls_id,statspath,0.05,showall=True)\n",
    "diag_sig_fdr_patients,diag_sig_unc_patients,_ = diagonal_group(patients_id,statspath,0.05,showall=True)"
   ]
  },
  {
   "cell_type": "markdown",
   "metadata": {},
   "source": [
    "Without kbest only "
   ]
  },
  {
   "cell_type": "code",
   "execution_count": 19,
   "metadata": {},
   "outputs": [
    {
     "name": "stdout",
     "output_type": "stream",
     "text": [
      "Showing all subjects\n",
      "Subj 180802_07k1_formal_conditionwise.npz number of non-zeros FDR : 19 \n",
      "Subj 180802_04k1_formal_conditionwise.npz number of non-zeros FDR : 241 \n",
      "Subj 180802_13k1_formal_conditionwise.npz number of non-zeros FDR : 352 \n",
      "Subj 180802_05k1_formal_conditionwise.npz number of non-zeros FDR : 129 \n",
      "Subj 180802_06k1_formal_conditionwise.npz number of non-zeros FDR : 52 \n",
      "Subj 180802_20k1_formal_conditionwise.npz number of non-zeros FDR : 302 \n",
      "Subj 180802_09k1_formal_conditionwise.npz number of non-zeros FDR : 104 \n",
      "Subj 180802_08k1_formal_conditionwise.npz number of non-zeros FDR : 305 \n",
      "Subj 180802_02k1_formal_conditionwise.npz number of non-zeros FDR : 0 \n",
      "Subj 180802_12k1_formal_conditionwise.npz number of non-zeros FDR : 170 \n",
      "Subj 180802_11k1_formal_conditionwise.npz number of non-zeros FDR : 25 \n",
      "Subj 180802_01k1_formal_conditionwise.npz number of non-zeros FDR : 445 \n",
      "Subj 180802_14k1_formal_conditionwise.npz number of non-zeros FDR : 80 \n",
      "Subj 180802_15k1_formal_conditionwise.npz number of non-zeros FDR : 44 \n",
      "Subj 180802_03k1_formal_conditionwise.npz number of non-zeros FDR : 114 \n",
      "Subj 180802_10k1_formal_conditionwise.npz number of non-zeros FDR : 111 \n",
      "Subj 180802_17k1_formal_conditionwise.npz number of non-zeros FDR : 50 \n",
      "Subj 180802_16k1_formal_conditionwise.npz number of non-zeros FDR : 79 \n",
      "Subj 180802_18k1_formal_conditionwise.npz number of non-zeros FDR : 21 \n",
      "Subj 180802_19k1_formal_conditionwise.npz number of non-zeros FDR : 83 \n",
      "Showing all subjects\n",
      "Subj 180802_12c1_formal_conditionwise.npz number of non-zeros FDR : 0 \n",
      "Subj 180802_15c1_formal_conditionwise.npz number of non-zeros FDR : 0 \n",
      "Subj 180802_07c1_formal_conditionwise.npz number of non-zeros FDR : 501 \n",
      "Subj 180802_17c1_formal_conditionwise.npz number of non-zeros FDR : 3 \n",
      "Subj 180802_11c1_formal_conditionwise.npz number of non-zeros FDR : 0 \n",
      "Subj 180802_03m1_formal_conditionwise.npz number of non-zeros FDR : 488 \n",
      "Subj 180802_05c1_formal_conditionwise.npz number of non-zeros FDR : 295 \n",
      "Subj 180802_14c1_formal_conditionwise.npz number of non-zeros FDR : 0 \n",
      "Subj 180802_04c1_formal_conditionwise.npz number of non-zeros FDR : 2 \n",
      "Subj 180802_01m1_formal_conditionwise.npz number of non-zeros FDR : 20 \n",
      "Subj 180802_02m1_formal_conditionwise.npz number of non-zeros FDR : 121 \n",
      "Subj 180802_06c1_formal_conditionwise.npz number of non-zeros FDR : 194 \n",
      "Subj 180802_09c1_formal_conditionwise.npz number of non-zeros FDR : 1 \n",
      "Subj 180802_10c1_formal_conditionwise.npz number of non-zeros FDR : 389 \n",
      "Subj 180802_03c1_formal_conditionwise.npz number of non-zeros FDR : 238 \n",
      "Subj 180802_02c1_formal_conditionwise.npz number of non-zeros FDR : 30 \n",
      "Subj 180802_13c1_formal_conditionwise.npz number of non-zeros FDR : 70 \n",
      "Subj 180802_08c1_formal_conditionwise.npz number of non-zeros FDR : 9 \n",
      "Subj 180802_01c1_formal_conditionwise.npz number of non-zeros FDR : 177 \n",
      "Subj 180802_04m1_formal_conditionwise.npz number of non-zeros FDR : 0 \n"
     ]
    }
   ],
   "source": [
    "diag_sig_fdr_controls,diag_sig_unc_controls,_ = diagonal_group(controls_id,statspath2,0.05,showall=True)\n",
    "diag_sig_fdr_patients,diag_sig_unc_patients,_ = diagonal_group(patients_id,statspath2,0.05,showall=True)"
   ]
  },
  {
   "cell_type": "code",
   "execution_count": null,
   "metadata": {},
   "outputs": [],
   "source": []
  }
 ],
 "metadata": {
  "kernelspec": {
   "display_name": "Python 3",
   "language": "python",
   "name": "python3"
  },
  "language_info": {
   "codemirror_mode": {
    "name": "ipython",
    "version": 3
   },
   "file_extension": ".py",
   "mimetype": "text/x-python",
   "name": "python",
   "nbconvert_exporter": "python",
   "pygments_lexer": "ipython3",
   "version": "3.6.7"
  }
 },
 "nbformat": 4,
 "nbformat_minor": 2
}
