{
 "cells": [
  {
   "cell_type": "markdown",
   "metadata": {},
   "source": [
    "Next steps : \n",
    "\n",
    "- Could we try to setup a simpler classificaiton, eg Standards and Deviants ? \n",
    "- We will try to classify single-trial ERPs (amplitude) on electrodes from bilateral ROI where Temporal effect was the largest ? Midline + Bilateral Frontocentral \n",
    "- use the average amplitude in the ROI analysis previously \n",
    "\n",
    "THe goal is to (1) reproduce the ROI "
   ]
  },
  {
   "cell_type": "code",
   "execution_count": 5,
   "metadata": {
    "collapsed": true
   },
   "outputs": [],
   "source": [
    "import scipy.io as sio\n",
    "from matplotlib import pyplot as plt \n",
    "%matplotlib inline\n",
    "\n",
    "import numpy as np \n"
   ]
  },
  {
   "cell_type": "code",
   "execution_count": 37,
   "metadata": {
    "collapsed": true
   },
   "outputs": [],
   "source": [
    "#Fetch an ERP file \n",
    "#Try with burkhard's files\n",
    "\n",
    "filename = 'data_cleaned_subj_01k1'\n",
    "matfile = '/Users/nicolasfarrugia/Documents/recherche/PD/PDNewAnalysis/data/eeg_task/analysis/data_newfilt/probands/%s.mat'%filename\n",
    "\n"
   ]
  },
  {
   "cell_type": "code",
   "execution_count": 38,
   "metadata": {},
   "outputs": [
    {
     "name": "stdout",
     "output_type": "stream",
     "text": [
      "[('data_cleaned_subj_01k1', (1, 1), 'struct')]\n"
     ]
    }
   ],
   "source": [
    "filecontents = sio.whosmat(matfile)\n",
    "print(filecontents)"
   ]
  },
  {
   "cell_type": "markdown",
   "metadata": {},
   "source": [
    "Load this subject"
   ]
  },
  {
   "cell_type": "code",
   "execution_count": 39,
   "metadata": {},
   "outputs": [],
   "source": [
    "subjdata = sio.loadmat(matfile,variable_names=filename,struct_as_record = False,squeeze_me=True)[filename]"
   ]
  },
  {
   "cell_type": "markdown",
   "metadata": {},
   "source": [
    "We can now directly access all the fields of the struct directly like in Matlab.\n",
    "\n",
    "Let's build our y vector first"
   ]
  },
  {
   "cell_type": "code",
   "execution_count": 85,
   "metadata": {},
   "outputs": [],
   "source": [
    "def build_y(subjdata):\n",
    "\n",
    "    y_iso_std = np.ones_like(subjdata.iso.standard.trialinfo)\n",
    "    y_iso_dev = 2*np.ones_like(subjdata.iso.deviant.trialinfo)\n",
    "    y_rnd_std = 3*np.ones_like(subjdata.rnd.standard.trialinfo)\n",
    "    y_rnd_dev = 4*np.ones_like(subjdata.rnd.deviant.trialinfo)\n",
    "\n",
    "    return np.hstack([y_iso_std,y_iso_dev,y_rnd_std,y_rnd_dev])"
   ]
  },
  {
   "cell_type": "code",
   "execution_count": 137,
   "metadata": {},
   "outputs": [
    {
     "data": {
      "text/plain": [
       "(657,)"
      ]
     },
     "execution_count": 137,
     "metadata": {},
     "output_type": "execute_result"
    }
   ],
   "source": [
    "y=build_y(subjdata)\n",
    "y.shape"
   ]
  },
  {
   "cell_type": "markdown",
   "metadata": {},
   "source": [
    "Let's now build the X vector. \n",
    "First, let's select the electrodes"
   ]
  },
  {
   "cell_type": "code",
   "execution_count": 51,
   "metadata": {},
   "outputs": [
    {
     "data": {
      "text/plain": [
       "array(['Fpz', 'Fp1', 'Fp2', 'AFz', 'AF3', 'AF4', 'AF7', 'AF8', 'Fz', 'F3',\n",
       "       'F4', 'F5', 'F6', 'F7', 'F8', 'F9', 'F10', 'FCz', 'FC3', 'FC4',\n",
       "       'FC5', 'FC6', 'FT7', 'FT8', 'FT9', 'FT10', 'Cz', 'C3', 'C4', 'C5',\n",
       "       'C6', 'T7', 'T8', 'CPz', 'CP3', 'CP4', 'CP5', 'CP6', 'TP7', 'TP8',\n",
       "       'TP9', 'TP10', 'Pz', 'P3', 'P4', 'P5', 'P6', 'P7', 'P8', 'P9',\n",
       "       'P10', 'POz', 'PO3', 'PO4', 'PO7', 'PO8', 'O1', 'O2', 'Oz', 'VEOG',\n",
       "       'HEOG'], dtype=object)"
      ]
     },
     "execution_count": 51,
     "metadata": {},
     "output_type": "execute_result"
    }
   ],
   "source": [
    "subjdata.iso.deviant.label"
   ]
  },
  {
   "cell_type": "code",
   "execution_count": 56,
   "metadata": {},
   "outputs": [
    {
     "data": {
      "text/plain": [
       "array(['FCz', 'FC3', 'FC4', 'FC5', 'FC6', 'Cz', 'C3', 'C4', 'C5', 'C6'], dtype=object)"
      ]
     },
     "execution_count": 56,
     "metadata": {},
     "output_type": "execute_result"
    }
   ],
   "source": [
    "subjdata.iso.deviant.label[[17,18,19,20,21,26,27,28,29,30]]"
   ]
  },
  {
   "cell_type": "code",
   "execution_count": 57,
   "metadata": {},
   "outputs": [
    {
     "name": "stdout",
     "output_type": "stream",
     "text": [
      "Selected electrode : FCz\n",
      "Selected electrode : FC3\n",
      "Selected electrode : FC4\n",
      "Selected electrode : FC5\n",
      "Selected electrode : FC6\n",
      "Selected electrode : Cz\n",
      "Selected electrode : C3\n",
      "Selected electrode : C4\n",
      "Selected electrode : C5\n",
      "Selected electrode : C6\n"
     ]
    }
   ],
   "source": [
    "roi = [17,18,19,20,21,26,27,28,29,30]\n",
    "for r in roi:\n",
    "    print('Selected electrode : %s' % subjdata.iso.deviant.label[r])"
   ]
  },
  {
   "cell_type": "markdown",
   "metadata": {},
   "source": [
    "Selection of the time window"
   ]
  },
  {
   "cell_type": "code",
   "execution_count": 234,
   "metadata": {},
   "outputs": [
    {
     "name": "stdout",
     "output_type": "stream",
     "text": [
      "Time window : 0.0460 to 0.0660 ms \n"
     ]
    }
   ],
   "source": [
    "timevecall = (subjdata.iso.deviant.time[0])\n",
    "\n",
    "### index 150 = stimulus onset \n",
    "\n",
    "timewin = np.arange(173,184)\n",
    "\n",
    "print('Time window : %0.4f to %0.4f ms ' % (timevecall[timewin[0]],timevecall[timewin[-1]]))"
   ]
  },
  {
   "cell_type": "markdown",
   "metadata": {},
   "source": [
    "Building the X matrix. We will order the rows along the order defined by the y vector above : first ISO STD, then ISO DEV, then RND STD, then RND DEV"
   ]
  },
  {
   "cell_type": "code",
   "execution_count": 112,
   "metadata": {
    "collapsed": true
   },
   "outputs": [],
   "source": [
    "def build_X_cond(subjdatacond,timewin,roi):\n",
    "    a = np.stack(subjdatacond.trial)\n",
    "    b = a[:,roi]\n",
    "    c=b[:,:,timewin]\n",
    "    return c.mean(axis=2)"
   ]
  },
  {
   "cell_type": "code",
   "execution_count": 116,
   "metadata": {},
   "outputs": [],
   "source": [
    "def build_X(subjdata,timewin,roi):\n",
    "    \n",
    "    iso_std = build_X_cond(subjdata.iso.standard,timewin,roi)\n",
    "    iso_dev = build_X_cond(subjdata.iso.deviant,timewin,roi)\n",
    "    rnd_std = build_X_cond(subjdata.rnd.standard,timewin,roi)\n",
    "    rnd_dev = build_X_cond(subjdata.rnd.deviant,timewin,roi)\n",
    "    \n",
    "    return np.vstack([iso_std,iso_dev,rnd_std,rnd_dev])\n",
    "    "
   ]
  },
  {
   "cell_type": "code",
   "execution_count": 119,
   "metadata": {},
   "outputs": [],
   "source": [
    "X = build_X(subjdata,timewin,roi)"
   ]
  },
  {
   "cell_type": "markdown",
   "metadata": {},
   "source": [
    "We are ready for supervised learning"
   ]
  },
  {
   "cell_type": "markdown",
   "metadata": {},
   "source": [
    "Easiest case : Formal structure\n",
    "\n",
    "For this we build a vector $yformal$ accordingly "
   ]
  },
  {
   "cell_type": "code",
   "execution_count": 273,
   "metadata": {
    "collapsed": true
   },
   "outputs": [],
   "source": [
    "def y_standards(subjdata):\n",
    "    y = build_y(subjdata)\n",
    "    ytemporal = y\n",
    "    ytemporal[y==2] = 0\n",
    "    ytemporal[y==4] = 0\n",
    "    return ytemporal\n",
    "\n",
    "def y_deviants(subjdata):\n",
    "    y = build_y(subjdata)\n",
    "    ytemporal = y\n",
    "    ytemporal[y==1] = 0\n",
    "    ytemporal[y==3] = 0\n",
    "    return ytemporal\n",
    "\n",
    "def y_temporal(subjdata):\n",
    "    y = build_y(subjdata)\n",
    "    ytemporal = y\n",
    "    ytemporal[y==2] = 1\n",
    "    ytemporal[y==4] = 3\n",
    "    return ytemporal\n",
    "\n",
    "def y_formal(subjdata):\n",
    "    y = build_y(subjdata)\n",
    "    yformal = y\n",
    "    yformal[y==2] = 2\n",
    "    yformal[y==4] = 2\n",
    "    yformal[y==3] = 1\n",
    "    return yformal"
   ]
  },
  {
   "cell_type": "markdown",
   "metadata": {},
   "source": [
    "Now we need to carefully define the time window and the ROI. \n",
    "\n",
    "Let's setup a loop with all subjects"
   ]
  },
  {
   "cell_type": "code",
   "execution_count": 343,
   "metadata": {},
   "outputs": [
    {
     "name": "stdout",
     "output_type": "stream",
     "text": [
      "Selected electrode : C5\n",
      "Selected electrode : T7\n",
      "Selected electrode : FC5\n",
      "Selected electrode : FT7\n",
      "Selected electrode : FT9\n",
      "Selected electrode : F5\n",
      "Selected electrode : F7\n",
      "Selected electrode : F9\n",
      "Selected electrode : C3\n",
      "Selected electrode : FC3\n",
      "Selected electrode : F3\n",
      "Selected electrode : AF3\n",
      "Selected electrode : AF7\n",
      "Selected electrode : Fp1\n",
      "Selected electrode : FCz\n",
      "Selected electrode : Fz\n",
      "Selected electrode : AFz\n",
      "Selected electrode : Fpz\n",
      "Selected electrode : AF4\n",
      "Selected electrode : Fp2\n",
      "Selected electrode : FC4\n",
      "Selected electrode : F4\n",
      "Selected electrode : FC6\n",
      "Selected electrode : F6\n",
      "Selected electrode : AF8\n",
      "Selected electrode : FT8\n",
      "Selected electrode : F8\n",
      "Selected electrode : FT10\n",
      "Selected electrode : F10\n",
      "Selected electrode : CP3\n",
      "Selected electrode : CP5\n",
      "Selected electrode : TP7\n",
      "Selected electrode : TP9\n",
      "Selected electrode : P3\n",
      "Selected electrode : P5\n",
      "Selected electrode : P7\n",
      "Selected electrode : P9\n",
      "Selected electrode : PO7\n",
      "Selected electrode : PO3\n",
      "Selected electrode : O1\n",
      "Selected electrode : CPz\n",
      "Selected electrode : Pz\n",
      "Selected electrode : POz\n",
      "Selected electrode : Oz\n",
      "Selected electrode : Cz\n",
      "Selected electrode : C4\n",
      "Selected electrode : CP4\n",
      "Selected electrode : P4\n",
      "Selected electrode : PO4\n",
      "Selected electrode : O2\n",
      "Selected electrode : C6\n",
      "Selected electrode : CP6\n",
      "Selected electrode : P6\n",
      "Selected electrode : PO8\n",
      "Selected electrode : T8\n",
      "Selected electrode : TP8\n",
      "Selected electrode : P8\n",
      "Selected electrode : TP10\n",
      "Selected electrode : P10\n",
      "Time window : 0.0460 to 0.0660 ms \n",
      "Subject data_cleaned_newfilt_subj_01k101k1.mat : Predicting Formal Structure with an average accuracy (3-fold cv ) of 77.9304 % , (permutation chance level : 77.9222 %)\n",
      "Subject data_cleaned_newfilt_subj_02k102k1.mat : Predicting Formal Structure with an average accuracy (3-fold cv ) of 76.4706 % , (permutation chance level : 76.4559 %)\n",
      "Subject data_cleaned_newfilt_subj_03k103k1.mat : Predicting Formal Structure with an average accuracy (3-fold cv ) of 76.6510 % , (permutation chance level : 76.6438 %)\n",
      "Subject data_cleaned_newfilt_subj_04k104k1.mat : Predicting Formal Structure with an average accuracy (3-fold cv ) of 76.4184 % , (permutation chance level : 76.4106 %)\n",
      "Subject data_cleaned_newfilt_subj_05k105k1.mat : Predicting Formal Structure with an average accuracy (3-fold cv ) of 76.6727 % , (permutation chance level : 76.6684 %)\n",
      "Subject data_cleaned_newfilt_subj_06k106k1.mat : Predicting Formal Structure with an average accuracy (3-fold cv ) of 77.0461 % , (permutation chance level : 77.0341 %)\n",
      "Subject data_cleaned_newfilt_subj_07k107k1.mat : Predicting Formal Structure with an average accuracy (3-fold cv ) of 76.2281 % , (permutation chance level : 76.2165 %)\n",
      "Subject data_cleaned_newfilt_subj_08k108k1.mat : Predicting Formal Structure with an average accuracy (3-fold cv ) of 75.6389 % , (permutation chance level : 75.7901 %)\n",
      "Subject data_cleaned_newfilt_subj_09k109k1.mat : Predicting Formal Structure with an average accuracy (3-fold cv ) of 78.5713 % , (permutation chance level : 78.5694 %)\n",
      "Subject data_cleaned_newfilt_subj_10k110k1.mat : Predicting Formal Structure with an average accuracy (3-fold cv ) of 76.6026 % , (permutation chance level : 76.5908 %)\n",
      "Subject data_cleaned_newfilt_subj_11k111k1.mat : Predicting Formal Structure with an average accuracy (3-fold cv ) of 77.1728 % , (permutation chance level : 77.1652 %)\n",
      "Subject data_cleaned_newfilt_subj_12k112k1.mat : Predicting Formal Structure with an average accuracy (3-fold cv ) of 76.9348 % , (permutation chance level : 76.9337 %)\n",
      "Subject data_cleaned_newfilt_subj_13k113k1.mat : Predicting Formal Structure with an average accuracy (3-fold cv ) of 75.5138 % , (permutation chance level : 75.4989 %)\n",
      "Subject data_cleaned_newfilt_subj_14k114k1.mat : Predicting Formal Structure with an average accuracy (3-fold cv ) of 75.9810 % , (permutation chance level : 75.9702 %)\n",
      "Subject data_cleaned_newfilt_subj_15k115k1.mat : Predicting Formal Structure with an average accuracy (3-fold cv ) of 74.3793 % , (permutation chance level : 74.3509 %)\n",
      "Subject data_cleaned_newfilt_subj_16k116k1.mat : Predicting Formal Structure with an average accuracy (3-fold cv ) of 76.0436 % , (permutation chance level : 76.0325 %)\n",
      "Subject data_cleaned_newfilt_subj_17k117k1.mat : Predicting Formal Structure with an average accuracy (3-fold cv ) of 78.0069 % , (permutation chance level : 78.0073 %)\n",
      "Subject data_cleaned_newfilt_subj_18k118k1.mat : Predicting Formal Structure with an average accuracy (3-fold cv ) of 76.8834 % , (permutation chance level : 76.8801 %)\n",
      "Subject data_cleaned_newfilt_subj_19k119k1.mat : Predicting Formal Structure with an average accuracy (3-fold cv ) of 77.2251 % , (permutation chance level : 77.2246 %)\n",
      "Subject data_cleaned_newfilt_subj_20k120k1.mat : Predicting Formal Structure with an average accuracy (3-fold cv ) of 76.1983 % , (permutation chance level : 76.1866 %)\n"
     ]
    }
   ],
   "source": [
    "from sklearn.svm import SVC\n",
    "from sklearn.ensemble import AdaBoostClassifier\n",
    "\n",
    "from sklearn.model_selection import cross_val_score\n",
    "\n",
    "import os \n",
    "\n",
    "probandsfolder = '/Users/nicolasfarrugia/Documents/recherche/PD/PDNewAnalysis/data/eeg_task/analysis/data_newfilt/probands/'\n",
    "listprobands = os.listdir(probandsfolder)\n",
    "\n",
    "patientsdir = '/Users/nicolasfarrugia/Documents/recherche/PD/PDNewAnalysis/data/eeg_task/analysis/data_newfilt/patients/'\n",
    "listpatients = os.listdir(patientsdir)\n",
    "\n",
    "\n",
    "cvint= 3 \n",
    "#### ROI SELECTION \n",
    "#roi = [17,18,19,20,21,26,27,28,29,30]\n",
    "roi = np.arange(59)\n",
    "for r in roi:\n",
    "    print('Selected electrode : %s' % subjdata.iso.deviant.label[r])\n",
    "    \n",
    "\n",
    "#### TIME WINDOW \n",
    "timevecall = (subjdata.iso.deviant.time[0])\n",
    "\n",
    "### index 150 = stimulus onset \n",
    "\n",
    "timewin = np.arange(173,184) # 173 to 184 is 46 to 66 ms (P50)\n",
    "\n",
    "#timewin = np.arange(205,215) \n",
    "\n",
    "print('Time window : %0.4f to %0.4f ms ' % (timevecall[timewin[0]],timevecall[timewin[-1]]))\n",
    "\n",
    "### Loop on subjects \n",
    "\n",
    "from sklearn.preprocessing import StandardScaler\n",
    "\n",
    "from sklearn.linear_model import LogisticRegressionCV\n",
    "\n",
    "from sklearn.feature_selection import SelectKBest\n",
    "\n",
    "from sklearn.model_selection import StratifiedKFold\n",
    "from sklearn.dummy import DummyClassifier\n",
    "    \n",
    "\n",
    "from sklearn.cross_validation import permutation_test_score\n",
    "\n",
    "from sklearn.decomposition import PCA\n",
    "\n",
    "stdscal = StandardScaler()\n",
    "for filename in listprobands:\n",
    "    matfile = '/Users/nicolasfarrugia/Documents/recherche/PD/PDNewAnalysis/data/eeg_task/analysis/data_newfilt/probands/%s'%filename\n",
    "\n",
    "    subjdata = sio.loadmat(matfile,variable_names=filename[:-8],struct_as_record = False,squeeze_me=True)[filename[:-8]]\n",
    "\n",
    "    ### Load and prepare data     \n",
    "    \n",
    "    y_temp = y_formal(subjdata)\n",
    "    \n",
    "    \n",
    "    y = y_temp[y_temp!=0]\n",
    "    \n",
    "    X = build_X(subjdata,timewin,roi)\n",
    "    \n",
    "    X = X[y_temp!=0]\n",
    "    \n",
    "    s=PCA(n_components=10,whiten=True)\n",
    "    \n",
    "    X_best = s.fit_transform(X,y)\n",
    "    \n",
    "    #myestim = AdaBoostClassifier(base_estimator=LogisticRegressionCV()) \n",
    "    myestim=SVC(kernel='rbf')\n",
    "    \n",
    "    #myestim = DummyClassifier()\n",
    "    #myestim = LogisticRegressionCV()\n",
    "    #X_norm = stdscal.fit_transform(X_best)\n",
    "\n",
    "    #cvscore = cross_val_score(estimator=myestim,cv=cvint,X=X_best,y=y)\n",
    "    \n",
    "    cvscore,permscores,pval = permutation_test_score(estimator=myestim,cv=cvint,X=X_best,y=y)\n",
    "    \n",
    "    \n",
    "    #plt.scatter(X_best[:,0],X_best[:,1],c=y)\n",
    "    #plt.show()\n",
    "\n",
    "    print('Subject %s : Predicting Formal Structure with an average accuracy (%d-fold cv ) of %0.4f %% , (permutation chance level : %0.4f %%)' % (filename,cvint,100*cvscore.mean(),100*permscores.mean()))\n",
    "   \n",
    "    \n",
    "    "
   ]
  },
  {
   "cell_type": "code",
   "execution_count": 344,
   "metadata": {},
   "outputs": [
    {
     "name": "stdout",
     "output_type": "stream",
     "text": [
      "Patient data_cleaned_newfilt_subj_01c101c1.mat : Predicting Formal Structure with an average accuracy (3-fold cv ) of 77.0575 % , (permutation chance level : 77.0451 %)\n",
      "Patient data_cleaned_newfilt_subj_01m101m1.mat : Predicting Formal Structure with an average accuracy (3-fold cv ) of 76.3256 % , (permutation chance level : 76.3138 %)\n",
      "Patient data_cleaned_newfilt_subj_02c102c1.mat : Predicting Formal Structure with an average accuracy (3-fold cv ) of 76.9502 % , (permutation chance level : 76.9426 %)\n",
      "Patient data_cleaned_newfilt_subj_02m102m1.mat : Predicting Formal Structure with an average accuracy (3-fold cv ) of 75.4938 % , (permutation chance level : 75.4823 %)\n",
      "Patient data_cleaned_newfilt_subj_03c103c1.mat : Predicting Formal Structure with an average accuracy (3-fold cv ) of 76.2132 % , (permutation chance level : 76.2062 %)\n",
      "Patient data_cleaned_newfilt_subj_03m103m1.mat : Predicting Formal Structure with an average accuracy (3-fold cv ) of 75.9939 % , (permutation chance level : 76.1407 %)\n",
      "Patient data_cleaned_newfilt_subj_04c104c1.mat : Predicting Formal Structure with an average accuracy (3-fold cv ) of 76.8455 % , (permutation chance level : 76.8449 %)\n",
      "Patient data_cleaned_newfilt_subj_04m104m1.mat : Predicting Formal Structure with an average accuracy (3-fold cv ) of 76.7411 % , (permutation chance level : 76.7342 %)\n",
      "Patient data_cleaned_newfilt_subj_05c105c1.mat : Predicting Formal Structure with an average accuracy (3-fold cv ) of 75.7213 % , (permutation chance level : 75.6981 %)\n",
      "Patient data_cleaned_newfilt_subj_06c106c1.mat : Predicting Formal Structure with an average accuracy (3-fold cv ) of 75.6334 % , (permutation chance level : 75.6256 %)\n",
      "Patient data_cleaned_newfilt_subj_07c107c1.mat : Predicting Formal Structure with an average accuracy (3-fold cv ) of 76.4137 % , (permutation chance level : 76.5655 %)\n",
      "Patient data_cleaned_newfilt_subj_08c108c1.mat : Predicting Formal Structure with an average accuracy (3-fold cv ) of 76.5193 % , (permutation chance level : 76.5026 %)\n",
      "Patient data_cleaned_newfilt_subj_09c109c1.mat : Predicting Formal Structure with an average accuracy (3-fold cv ) of 76.0068 % , (permutation chance level : 76.1525 %)\n",
      "Patient data_cleaned_newfilt_subj_10c110c1.mat : Predicting Formal Structure with an average accuracy (3-fold cv ) of 74.4820 % , (permutation chance level : 74.4597 %)\n",
      "Patient data_cleaned_newfilt_subj_11c111c1.mat : Predicting Formal Structure with an average accuracy (3-fold cv ) of 74.4759 % , (permutation chance level : 74.6184 %)\n",
      "Patient data_cleaned_newfilt_subj_12c112c1.mat : Predicting Formal Structure with an average accuracy (3-fold cv ) of 77.0797 % , (permutation chance level : 77.0694 %)\n",
      "Patient data_cleaned_newfilt_subj_13c113c1.mat : Predicting Formal Structure with an average accuracy (3-fold cv ) of 75.9454 % , (permutation chance level : 75.9410 %)\n",
      "Patient data_cleaned_newfilt_subj_14c114c1.mat : Predicting Formal Structure with an average accuracy (3-fold cv ) of 76.8627 % , (permutation chance level : 76.8600 %)\n",
      "Patient data_cleaned_newfilt_subj_15c115c1.mat : Predicting Formal Structure with an average accuracy (3-fold cv ) of 77.4198 % , (permutation chance level : 77.3952 %)\n",
      "Patient data_cleaned_newfilt_subj_17c117c1.mat : Predicting Formal Structure with an average accuracy (3-fold cv ) of 76.9485 % , (permutation chance level : 76.9318 %)\n"
     ]
    }
   ],
   "source": [
    "for filename in listpatients:\n",
    "    matfile = '/Users/nicolasfarrugia/Documents/recherche/PD/PDNewAnalysis/data/eeg_task/analysis/data_newfilt/patients/%s'%filename\n",
    "\n",
    "    subjdata = sio.loadmat(matfile,variable_names=filename[:-8],struct_as_record = False,squeeze_me=True)[filename[:-8]]\n",
    "\n",
    "     \n",
    "    y_temp = y_formal(subjdata)\n",
    "    \n",
    "    \n",
    "    y = y_temp[y_temp!=0]\n",
    "    \n",
    "    X = build_X(subjdata,timewin,roi)\n",
    "    \n",
    "    X = X[y_temp!=0]\n",
    "    \n",
    "    s=PCA(n_components=10,whiten=True)\n",
    "    \n",
    "    X_best = s.fit_transform(X,y)\n",
    "    \n",
    "    #myestim = AdaBoostClassifier(base_estimator=LogisticRegressionCV()) \n",
    "    myestim=SVC(kernel='rbf')\n",
    "    \n",
    "    #myestim = DummyClassifier()\n",
    "    #myestim = LogisticRegressionCV()\n",
    "    #X_norm = stdscal.fit_transform(X_best)\n",
    "\n",
    "    #cvscore = cross_val_score(estimator=myestim,cv=cvint,X=X_best,y=y)\n",
    "    \n",
    "    cvscore,permscores,pval = permutation_test_score(estimator=myestim,cv=cvint,X=X_best,y=y)\n",
    "    \n",
    "    \n",
    "    #plt.scatter(X_best[:,0],X_best[:,1],c=y)\n",
    "    #plt.show()\n",
    "\n",
    "    print('Patient %s : Predicting Formal Structure with an average accuracy (%d-fold cv ) of %0.4f %% , (permutation chance level : %0.4f %%)' % (filename,cvint,100*cvscore.mean(),100*permscores.mean()))\n",
    "   \n",
    "    "
   ]
  },
  {
   "cell_type": "markdown",
   "metadata": {},
   "source": [
    "Boxplots of Regular vs Irregular average amplitudes (controls)"
   ]
  },
  {
   "cell_type": "code",
   "execution_count": 347,
   "metadata": {},
   "outputs": [
    {
     "name": "stdout",
     "output_type": "stream",
     "text": [
      "Selected electrode : Fpz\n",
      "Selected electrode : Fp1\n",
      "Selected electrode : Fp2\n",
      "Selected electrode : AFz\n",
      "Selected electrode : AF3\n",
      "Selected electrode : AF4\n",
      "Selected electrode : AF7\n",
      "Selected electrode : AF8\n",
      "Selected electrode : Fz\n",
      "Selected electrode : F3\n",
      "Selected electrode : F4\n",
      "Selected electrode : F5\n",
      "Selected electrode : F6\n",
      "Selected electrode : F7\n",
      "Selected electrode : F8\n",
      "Selected electrode : F9\n",
      "Selected electrode : F10\n",
      "Selected electrode : FCz\n",
      "Selected electrode : FC3\n",
      "Selected electrode : FC4\n",
      "Selected electrode : FC5\n",
      "Selected electrode : FC6\n",
      "Selected electrode : FT7\n",
      "Selected electrode : FT8\n",
      "Selected electrode : FT9\n",
      "Selected electrode : FT10\n",
      "Selected electrode : Cz\n",
      "Selected electrode : C3\n",
      "Selected electrode : C4\n",
      "Selected electrode : C5\n",
      "Selected electrode : C6\n",
      "Selected electrode : T7\n",
      "Selected electrode : T8\n",
      "Selected electrode : CPz\n",
      "Selected electrode : CP3\n",
      "Selected electrode : CP4\n",
      "Selected electrode : CP5\n",
      "Selected electrode : CP6\n",
      "Selected electrode : TP7\n",
      "Selected electrode : TP8\n",
      "Selected electrode : TP9\n",
      "Selected electrode : TP10\n",
      "Selected electrode : Pz\n",
      "Selected electrode : P3\n",
      "Selected electrode : P4\n",
      "Selected electrode : P5\n",
      "Selected electrode : P6\n",
      "Selected electrode : P7\n",
      "Selected electrode : P8\n",
      "Selected electrode : P9\n",
      "Selected electrode : P10\n",
      "Selected electrode : POz\n",
      "Selected electrode : PO3\n",
      "Selected electrode : PO4\n",
      "Selected electrode : PO7\n",
      "Selected electrode : PO8\n",
      "Selected electrode : O1\n",
      "Selected electrode : O2\n",
      "Selected electrode : Oz\n",
      "Time window : 0.0800 to 0.1100 ms \n"
     ]
    },
    {
     "data": {
      "image/png": "[encoded data removed]",
      "text/plain": [
       "<matplotlib.figure.Figure at 0x139f87a90>"
      ]
     },
     "metadata": {},
     "output_type": "display_data"
    },
    {
     "data": {
      "image/png": "[encoded data removed]",
      "text/plain": [
       "<matplotlib.figure.Figure at 0x15d8fd6a0>"
      ]
     },
     "metadata": {},
     "output_type": "display_data"
    },
    {
     "data": {
      "image/png": "[encoded data removed]",
      "text/plain": [
       "<matplotlib.figure.Figure at 0x1649ad278>"
      ]
     },
     "metadata": {},
     "output_type": "display_data"
    },
    {
     "data": {
      "image/png": "[encoded data removed]",
      "text/plain": [
       "<matplotlib.figure.Figure at 0x14d27c588>"
      ]
     },
     "metadata": {},
     "output_type": "display_data"
    },
    {
     "data": {
      "image/png": "[encoded data removed]",
      "text/plain": [
       "<matplotlib.figure.Figure at 0x14ad49908>"
      ]
     },
     "metadata": {},
     "output_type": "display_data"
    },
    {
     "data": {
      "image/png": "[encoded data removed]",
      "text/plain": [
       "<matplotlib.figure.Figure at 0x14ad5a7f0>"
      ]
     },
     "metadata": {},
     "output_type": "display_data"
    },
    {
     "data": {
      "image/png": "[encoded data removed]",
      "text/plain": [
       "<matplotlib.figure.Figure at 0x14d0e8860>"
      ]
     },
     "metadata": {},
     "output_type": "display_data"
    },
    {
     "data": {
      "image/png": "[encoded data removed]",
      "text/plain": [
       "<matplotlib.figure.Figure at 0x114e3be10>"
      ]
     },
     "metadata": {},
     "output_type": "display_data"
    },
    {
     "data": {
      "image/png": "[encoded data removed]",
      "text/plain": [
       "<matplotlib.figure.Figure at 0x15d76ef60>"
      ]
     },
     "metadata": {},
     "output_type": "display_data"
    },
    {
     "data": {
      "image/png": "[encoded data removed]",
      "text/plain": [
       "<matplotlib.figure.Figure at 0x14df8c160>"
      ]
     },
     "metadata": {},
     "output_type": "display_data"
    },
    {
     "data": {
      "image/png": "[encoded data removed]",
      "text/plain": [
       "<matplotlib.figure.Figure at 0x170605240>"
      ]
     },
     "metadata": {},
     "output_type": "display_data"
    },
    {
     "data": {
      "image/png": "[encoded data removed]",
      "text/plain": [
       "<matplotlib.figure.Figure at 0x1371c2588>"
      ]
     },
     "metadata": {},
     "output_type": "display_data"
    },
    {
     "data": {
      "image/png": "[encoded data removed]",
      "text/plain": [
       "<matplotlib.figure.Figure at 0x17be1d710>"
      ]
     },
     "metadata": {},
     "output_type": "display_data"
    },
    {
     "data": {
      "image/png": "[encoded data removed]",
      "text/plain": [
       "<matplotlib.figure.Figure at 0x136bd3588>"
      ]
     },
     "metadata": {},
     "output_type": "display_data"
    },
    {
     "data": {
      "image/png": "[encoded data removed]",
      "text/plain": [
       "<matplotlib.figure.Figure at 0x16ac1bdd8>"
      ]
     },
     "metadata": {},
     "output_type": "display_data"
    },
    {
     "data": {
      "image/png": "[encoded data removed]",
      "text/plain": [
       "<matplotlib.figure.Figure at 0x14ad29978>"
      ]
     },
     "metadata": {},
     "output_type": "display_data"
    },
    {
     "data": {
      "image/png": "[encoded data removed]",
      "text/plain": [
       "<matplotlib.figure.Figure at 0x114e3fe48>"
      ]
     },
     "metadata": {},
     "output_type": "display_data"
    },
    {
     "data": {
      "image/png": "[encoded data removed]",
      "text/plain": [
       "<matplotlib.figure.Figure at 0x16cfbce48>"
      ]
     },
     "metadata": {},
     "output_type": "display_data"
    },
    {
     "data": {
      "image/png": "[encoded data removed]",
      "text/plain": [
       "<matplotlib.figure.Figure at 0x1371ca7b8>"
      ]
     },
     "metadata": {},
     "output_type": "display_data"
    },
    {
     "data": {
      "image/png": "[encoded data removed]",
      "text/plain": [
       "<matplotlib.figure.Figure at 0x114f08470>"
      ]
     },
     "metadata": {},
     "output_type": "display_data"
    }
   ],
   "source": [
    "#roi = [17,18,19,20,21,26,27,28,29,30]\n",
    "roi = np.arange(59)\n",
    "for r in roi:\n",
    "    print('Selected electrode : %s' % subjdata.iso.deviant.label[r])\n",
    "    \n",
    "\n",
    "#### TIME WINDOW \n",
    "timevecall = (subjdata.iso.deviant.time[0])\n",
    "\n",
    "### index 150 = stimulus onset \n",
    "\n",
    "timewin = np.arange(190,206)\n",
    "\n",
    "print('Time window : %0.4f to %0.4f ms ' % (timevecall[timewin[0]],timevecall[timewin[-1]]))\n",
    "\n",
    "\n",
    "\n",
    "for filename in listprobands:\n",
    "    matfile = '/Users/nicolasfarrugia/Documents/recherche/PD/PDNewAnalysis/data/eeg_task/analysis/data_newfilt/probands/%s'%filename\n",
    "\n",
    "    subjdata = sio.loadmat(matfile,variable_names=filename[:-8],struct_as_record = False,squeeze_me=True)[filename[:-8]]\n",
    "\n",
    "    ### Load and prepare data \n",
    "\n",
    "    y = y_temporal(subjdata)\n",
    "    X = build_X(subjdata,timewin,roi).mean(axis=1)\n",
    "    \n",
    "    plt.boxplot([X[y==1],X[y==3]])\n",
    "    plt.show()"
   ]
  },
  {
   "attachments": {},
   "cell_type": "markdown",
   "metadata": {},
   "source": [
    "Frontal (left: AF7, AF3, F9, F7, F5, F3; right: AF8, AF4, F10, F8, F6, F4) central (left: T7, C5, C3, TP7, CP5, CP3; right: T8, C6, C4, TP8, CP6, CP4), and parietal (left: P7, P5, P3, PO7, PO3, O1; right: P8, P6, P4, PO8, PO4, O2)"
   ]
  },
  {
   "attachments": {},
   "cell_type": "markdown",
   "metadata": {},
   "source": [
    " P50: 46–66 ms and N100: 80–110 ms"
   ]
  }
 ],
 "metadata": {
  "kernelspec": {
   "display_name": "Python 3",
   "language": "python",
   "name": "python3"
  },
  "language_info": {
   "codemirror_mode": {
    "name": "ipython",
    "version": 3
   },
   "file_extension": ".py",
   "mimetype": "text/x-python",
   "name": "python",
   "nbconvert_exporter": "python",
   "pygments_lexer": "ipython3",
   "version": "3.6.0"
  }
 },
 "nbformat": 4,
 "nbformat_minor": 2
}
